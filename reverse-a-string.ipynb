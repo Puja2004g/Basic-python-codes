# write a python program  to reverse a string

a = "string"

print(a[:: -1])
    
