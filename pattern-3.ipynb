row = 5
arr = ["A", "B", "C", "D", "E"]
for i in range (0,row):
    for j in range (i, row):
        print(arr[j] , end="")
    print()
