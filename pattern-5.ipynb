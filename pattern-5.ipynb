#pattern 4
row = 6
arr = ["P", "R", "A", "B", "H", "U"]

for i in range(row):
    for space in range(row - i - 1):
        print(" ", end="")
    for j in range(i + 1):
        print(arr[j], end="")
    print()
