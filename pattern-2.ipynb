#pattern 2
row = 5
arr = ["A", "B", "C", "D", "E"]
for i in range (0,row):
    for j in range (0, i+1):
        print(arr[j] , end="")
    print()
