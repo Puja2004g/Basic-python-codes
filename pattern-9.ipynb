# Pattern 8
for i in range(5, 0, -1):
    for j in range(i):
        print("*", end="")
    for _ in range(2 * (5 - i)):
        print(" ", end="")
    for j in range(i):
        print("*", end="")
    print()
