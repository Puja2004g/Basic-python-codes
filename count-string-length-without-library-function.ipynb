# write a program to calculate lenght of a string without using library function

a = "Python"
length = 0

for char in a:
    length += 1
print(length)
