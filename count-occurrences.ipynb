# write a program to cound the occurrences of each word in a string sentence
a = "anaconda"
dict_occur = {}

for char in a:
    if char in dict_occur:
        dict_occur[char] += 1
    else:
        dict_occur[char] = 1

print(dict_occur)
