# Pattern 9
a = "ABCDE"
m = 5
for i in range(5, 0, -1):
    for k in range(5 - i):
        print(" ", end="")
    for j in range(0, i):
        print(a[j] + " ", end="")
    print()
