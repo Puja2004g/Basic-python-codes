# write a python program to count the number of lowercase and uppercase letters in a string

a = "StrinG"
count_lower = 0
count_upper = 0

for char in a:
    if char.lower() == char:
        count_lower += 1
    elif char.upper() == char:
        count_upper +=1

print("Lowercase = ",count_lower, "Uppercase = " ,count_upper)
        
