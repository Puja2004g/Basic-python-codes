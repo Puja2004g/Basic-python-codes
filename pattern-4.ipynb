#pattern 3
row = 5
arr = ["E", "D", "C", "B", "A"]

for i in range(0, row):
    for j in range(i, row):
        print(arr[j], end="")
    print()
