# Pattern 7
n = 5
for i in range(1, n+1):
    for _ in range(n-i):
        print(" ", end="")
    for j in range(2*i-1, 0, -1):
        print((j), end="")
    print()
