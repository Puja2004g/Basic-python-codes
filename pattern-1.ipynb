#pattern 1
row = 5
col = 5
arr = ["A", "B", "C", "D", "E"]
for i in range (0,row):
    for j in range (0, col):
        print(arr[i] , end="")
    print()
