# Pattern 6
n = 5
for i in range(1, n+1):
    for _ in range(n-i):
        print(" ", end="")
    for j in range(1, 2*i):
        print(chr(65+j-1), end="")
    print()
