# write a program to count the number of digits and characters in a string

a = "stri2g"
digits = "0123456789"
count_number = 0
count_char = 0

for char in a:
    if char in digits:
        count_number += 1
    else:
        count_char += 1

print("Digits: ", count_number)
print("Characters: ", count_char)

            
