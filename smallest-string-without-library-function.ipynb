# write a program to take two strings and display the smallest string without uisng library function

a = "Python"
b = "Anaconda"

length_a = 0
length_b = 0

for char in a:
    length_a += 1

for char in b:
    length_b += 1

if length_a < length_b:
    print(a)
else:
    print(b)
